{
 "cells": [
  {
   "cell_type": "code",
   "execution_count": 60,
   "metadata": {},
   "outputs": [
    {
     "name": "stdout",
     "output_type": "stream",
     "text": [
      "모양의 크기를 입력하세요. : 10\n",
      "*\n",
      "**\n",
      "***\n",
      "****\n",
      "*****\n",
      "******\n",
      "*******\n",
      "********\n",
      "*********\n",
      "**********\n",
      "*********\n",
      "********\n",
      "*******\n",
      "******\n",
      "*****\n",
      "****\n",
      "***\n",
      "**\n",
      "*\n",
      "\n"
     ]
    }
   ],
   "source": [
    "number = int(input(\"모양의 크기를 입력하세요. : \"))\n",
    "count = 1\n",
    "count2 = number - 1\n",
    "mark = \"*\"\n",
    "\n",
    "while count <= number * 2:\n",
    "    if count <= number:\n",
    "        drawing = mark * count\n",
    "        print(drawing)\n",
    "        count += 1\n",
    "    elif (count > number) & (count <= number * 2) :\n",
    "        drawing = mark * count2\n",
    "        print(drawing)\n",
    "        count2 -= 1\n",
    "        count += 1"
   ]
  },
  {
   "cell_type": "code",
   "execution_count": 61,
   "metadata": {},
   "outputs": [
    {
     "name": "stdout",
     "output_type": "stream",
     "text": [
      "모양의 크기를 입력하세요. : 10\n",
      "    *     \n",
      "    **    \n",
      "   ***    \n",
      "   ****   \n",
      "  *****   \n",
      "  ******  \n",
      " *******  \n",
      " ******** \n",
      "********* \n",
      "**********\n",
      "********* \n",
      " ******** \n",
      " *******  \n",
      "  ******  \n",
      "  *****   \n",
      "   ****   \n",
      "   ***    \n",
      "    **    \n",
      "    *     \n",
      "          \n"
     ]
    }
   ],
   "source": [
    "number = int(input(\"모양의 크기를 입력하세요. : \"))\n",
    "count = 1\n",
    "count2 = number - 1\n",
    "mark = \"*\"\n",
    "\n",
    "while count <= number * 2:\n",
    "    if count <= number:\n",
    "        drawing = mark * count\n",
    "        print(drawing.center(10))\n",
    "        count += 1\n",
    "    elif (count > number) & (count <= number * 2) :\n",
    "        drawing = mark * count2\n",
    "        print(drawing.center(10))\n",
    "        count2 -= 1\n",
    "        count += 1"
   ]
  },
  {
   "cell_type": "code",
   "execution_count": 69,
   "metadata": {},
   "outputs": [
    {
     "name": "stdout",
     "output_type": "stream",
     "text": [
      "모양의 크기를 입력하세요. : 10\n",
      "         *          \n",
      "        ***         \n",
      "       *****        \n",
      "      *******       \n",
      "     *********      \n",
      "    ***********     \n",
      "   *************    \n",
      "  ***************   \n",
      " *****************  \n",
      "******************* \n",
      "******************* \n",
      " *****************  \n",
      "  ***************   \n",
      "   *************    \n",
      "    ***********     \n",
      "     *********      \n",
      "      *******       \n",
      "       *****        \n",
      "        ***         \n",
      "         *          \n"
     ]
    }
   ],
   "source": [
    "number = int(input(\"모양의 크기를 입력하세요. : \"))\n",
    "count = 1\n",
    "count2 = number*2 - 1\n",
    "mark = \"*\"\n",
    "\n",
    "while count <= number * 4:\n",
    "    if count < number * 2:\n",
    "        drawing = mark * count\n",
    "        print(drawing.center(number * 2))\n",
    "        count += 2\n",
    "    elif (count > number* 2) & (count <= number * 4) :\n",
    "        drawing = mark * count2\n",
    "        print(drawing.center(number * 2))\n",
    "        count2 -= 2\n",
    "        count += 2"
   ]
  },
  {
   "cell_type": "markdown",
   "metadata": {},
   "source": [
    "### 다른 사람 푼 걸 보니 이 문제는 for문이 더 편한 거 같다."
   ]
  }
 ],
 "metadata": {
  "kernelspec": {
   "display_name": "Python 3",
   "language": "python",
   "name": "python3"
  },
  "language_info": {
   "codemirror_mode": {
    "name": "ipython",
    "version": 3
   },
   "file_extension": ".py",
   "mimetype": "text/x-python",
   "name": "python",
   "nbconvert_exporter": "python",
   "pygments_lexer": "ipython3",
   "version": "3.8.5"
  }
 },
 "nbformat": 4,
 "nbformat_minor": 4
}
