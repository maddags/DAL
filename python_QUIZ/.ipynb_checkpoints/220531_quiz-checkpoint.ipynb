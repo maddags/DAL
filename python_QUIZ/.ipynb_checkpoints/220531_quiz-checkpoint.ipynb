{
 "cells": [
  {
   "cell_type": "markdown",
   "id": "50841438",
   "metadata": {},
   "source": [
    "# Q1\n",
    "- 출입 기록의 수 n\n",
    "- n개의 출입 기록이 순서대로 주어지며, 각 사람의 이름이 주어지고 뒤에 \"enter\"나 \"leave\"가 주어짐 (enter 출근, leave 퇴근)\n",
    "- 동명이인 없음, 대소문자가 다른 경우 다른 이름, 사람들의 이름은 대소문자로 구성된 5글자 이하의 문자열\n",
    "\n",
    "- 출력 : 현재 회사에 있는 사람들의 이름 출력"
   ]
  },
  {
   "cell_type": "code",
   "execution_count": 23,
   "id": "7e1b9743",
   "metadata": {},
   "outputs": [],
   "source": [
    "def q1():\n",
    "    people_number = int(input(\"출입 기록 수 : \"))\n",
    "    people_condition(people_number)"
   ]
  },
  {
   "cell_type": "code",
   "execution_count": 41,
   "id": "033bdcf5",
   "metadata": {},
   "outputs": [],
   "source": [
    "def people_condition(people_number):\n",
    "    people_list = []\n",
    "    condition_list = []\n",
    "    for i in range(people_number):\n",
    "        people, condition = input().split(\" \")\n",
    "        people_list.append(people)\n",
    "        condition_list.append(condition)\n",
    "#     print(people_list,condition_list)\n",
    "    people_entrance(people_list,condition_list)"
   ]
  },
  {
   "cell_type": "code",
   "execution_count": 53,
   "id": "f1ba46e6",
   "metadata": {},
   "outputs": [],
   "source": [
    "def people_entrance(people_list,condition_list):\n",
    "    lists = []\n",
    "    for i in range(len(people_list)):\n",
    "        lists.append([people_list[i],condition_list[i]])\n",
    "    \n",
    "    enter_list = []\n",
    "    for log in lists:\n",
    "        if log[1] == \"enter\":\n",
    "            enter_list.append(log[0])\n",
    "        elif log[1] == \"leave\":\n",
    "            enter_list.remove(log[0])\n",
    "    printed(enter_list)"
   ]
  },
  {
   "cell_type": "code",
   "execution_count": 54,
   "id": "1afa818c",
   "metadata": {},
   "outputs": [],
   "source": [
    "def printed(enter_list):\n",
    "    for i in sorted(enter_list):\n",
    "        print(i)"
   ]
  },
  {
   "cell_type": "code",
   "execution_count": 55,
   "id": "704b6897",
   "metadata": {},
   "outputs": [
    {
     "name": "stdout",
     "output_type": "stream",
     "text": [
      "출입 기록 수 : 3\n",
      "a enter\n",
      "b enter\n",
      "c enter\n",
      "a\n",
      "b\n",
      "c\n"
     ]
    }
   ],
   "source": [
    "q1()"
   ]
  }
 ],
 "metadata": {
  "kernelspec": {
   "display_name": "Python 3 (ipykernel)",
   "language": "python",
   "name": "python3"
  },
  "language_info": {
   "codemirror_mode": {
    "name": "ipython",
    "version": 3
   },
   "file_extension": ".py",
   "mimetype": "text/x-python",
   "name": "python",
   "nbconvert_exporter": "python",
   "pygments_lexer": "ipython3",
   "version": "3.8.8"
  }
 },
 "nbformat": 4,
 "nbformat_minor": 5
}
