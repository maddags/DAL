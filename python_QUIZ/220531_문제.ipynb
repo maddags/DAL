{
 "cells": [
  {
   "cell_type": "markdown",
   "id": "37dc9572",
   "metadata": {},
   "source": [
    "# Q1 남은사람 목록\n",
    "- 출입 기록의 수 n\n",
    "- n개의 출입 기록이 순서대로 주어지며, 각 사람의 이름이 주어지고 뒤에 \"enter\"나 \"leave\"가 주어짐 (enter 출근, leave 퇴근)\n",
    "- 동명이인 없음, 대소문자가 다른 경우 다른 이름, 사람들의 이름은 대소문자로 구성된 5글자 이하의 문자열\n",
    "\n",
    "- 출력 : 현재 회사에 있는 사람들의 이름 출력"
   ]
  },
  {
   "cell_type": "code",
   "execution_count": 23,
   "id": "8c1eb593",
   "metadata": {},
   "outputs": [],
   "source": [
    "def q1():\n",
    "    people_number = int(input(\"출입 기록 수 : \"))\n",
    "    people_condition(people_number)"
   ]
  },
  {
   "cell_type": "code",
   "execution_count": 41,
   "id": "3d6a82f0",
   "metadata": {},
   "outputs": [],
   "source": [
    "def people_condition(people_number):\n",
    "    people_list = []\n",
    "    condition_list = []\n",
    "    for i in range(people_number):\n",
    "        people, condition = input().split(\" \")\n",
    "        people_list.append(people)\n",
    "        condition_list.append(condition)\n",
    "#     print(people_list,condition_list)\n",
    "    people_entrance(people_list,condition_list)"
   ]
  },
  {
   "cell_type": "code",
   "execution_count": 53,
   "id": "893b7a91",
   "metadata": {},
   "outputs": [],
   "source": [
    "def people_entrance(people_list,condition_list):\n",
    "    lists = []\n",
    "    for i in range(len(people_list)):\n",
    "        lists.append([people_list[i],condition_list[i]])\n",
    "    \n",
    "    enter_list = []\n",
    "    for log in lists:\n",
    "        if log[1] == \"enter\":\n",
    "            enter_list.append(log[0])\n",
    "        elif log[1] == \"leave\":\n",
    "            enter_list.remove(log[0])\n",
    "    printed(enter_list)"
   ]
  },
  {
   "cell_type": "code",
   "execution_count": 54,
   "id": "09a57cf7",
   "metadata": {},
   "outputs": [],
   "source": [
    "def printed(enter_list):\n",
    "    for i in sorted(enter_list):\n",
    "        print(i)"
   ]
  },
  {
   "cell_type": "code",
   "execution_count": 90,
   "id": "5a3ce5ce",
   "metadata": {},
   "outputs": [
    {
     "name": "stdout",
     "output_type": "stream",
     "text": [
      "출입 기록 수 : 4\n",
      "Ho enter\n",
      "Bo enter\n",
      "Yo enter\n",
      "Ho leave\n",
      "Bo\n",
      "Yo\n"
     ]
    }
   ],
   "source": [
    "q1()"
   ]
  },
  {
   "cell_type": "markdown",
   "id": "3c26344c",
   "metadata": {},
   "source": [
    "# Q2 할인된 가격"
   ]
  },
  {
   "cell_type": "code",
   "execution_count": 56,
   "id": "fb3237c9",
   "metadata": {},
   "outputs": [],
   "source": [
    "def price_discount():\n",
    "    price = int(input(\"상품 가격 : \"))\n",
    "    discount = input(\"쿠폰 이름 : \")\n",
    "    calculation(price,discount)"
   ]
  },
  {
   "cell_type": "code",
   "execution_count": 68,
   "id": "63d64ef5",
   "metadata": {},
   "outputs": [],
   "source": [
    "def calculation(price,discount):\n",
    "    discount_price = int(discount[4::])\n",
    "    discounted_price = price - discount_price\n",
    "    print(f'할인된 가격은 {discounted_price} 원입니다.')"
   ]
  },
  {
   "cell_type": "code",
   "execution_count": 91,
   "id": "1a5aa4fd",
   "metadata": {},
   "outputs": [
    {
     "name": "stdout",
     "output_type": "stream",
     "text": [
      "상품 가격 : 10000\n",
      "쿠폰 이름 : Cash3000\n",
      "할인된 가격은 7000 원입니다.\n"
     ]
    }
   ],
   "source": [
    "price_discount()"
   ]
  },
  {
   "cell_type": "markdown",
   "id": "9948e8fd",
   "metadata": {},
   "source": [
    "# Q3 구구단"
   ]
  },
  {
   "cell_type": "code",
   "execution_count": 92,
   "id": "79665460",
   "metadata": {},
   "outputs": [],
   "source": [
    "def gugudan(number):\n",
    "    dan = 9\n",
    "    for i in range(dan+1):\n",
    "        print(f'{number} X {i} = {number * i}')"
   ]
  },
  {
   "cell_type": "code",
   "execution_count": 94,
   "id": "42efc299",
   "metadata": {},
   "outputs": [
    {
     "name": "stdout",
     "output_type": "stream",
     "text": [
      "3 X 0 = 0\n",
      "3 X 1 = 3\n",
      "3 X 2 = 6\n",
      "3 X 3 = 9\n",
      "3 X 4 = 12\n",
      "3 X 5 = 15\n",
      "3 X 6 = 18\n",
      "3 X 7 = 21\n",
      "3 X 8 = 24\n",
      "3 X 9 = 27\n"
     ]
    }
   ],
   "source": [
    "gugudan(3)"
   ]
  },
  {
   "cell_type": "markdown",
   "id": "515b65d7",
   "metadata": {},
   "source": [
    "# Q4 피보나치 수열"
   ]
  },
  {
   "cell_type": "code",
   "execution_count": 87,
   "id": "8a228b4e",
   "metadata": {},
   "outputs": [],
   "source": [
    "def fibonacci(number):\n",
    "    number_list = [0,1]\n",
    "    for i in range(number-2):\n",
    "        number = number_list[i] + number_list[i+1]\n",
    "        number_list.append(number)\n",
    "    for i in number_list:\n",
    "        print(i)"
   ]
  },
  {
   "cell_type": "code",
   "execution_count": 96,
   "id": "70b34562",
   "metadata": {},
   "outputs": [
    {
     "name": "stdout",
     "output_type": "stream",
     "text": [
      "0\n",
      "1\n",
      "1\n",
      "2\n",
      "3\n",
      "5\n",
      "8\n",
      "13\n",
      "21\n",
      "34\n",
      "55\n",
      "89\n",
      "144\n",
      "233\n",
      "377\n"
     ]
    }
   ],
   "source": [
    "fibonacci(15)"
   ]
  }
 ],
 "metadata": {
  "kernelspec": {
   "display_name": "Python 3 (ipykernel)",
   "language": "python",
   "name": "python3"
  },
  "language_info": {
   "codemirror_mode": {
    "name": "ipython",
    "version": 3
   },
   "file_extension": ".py",
   "mimetype": "text/x-python",
   "name": "python",
   "nbconvert_exporter": "python",
   "pygments_lexer": "ipython3",
   "version": "3.8.8"
  }
 },
 "nbformat": 4,
 "nbformat_minor": 5
}
