{
 "cells": [
  {
   "cell_type": "code",
   "execution_count": 2,
   "metadata": {},
   "outputs": [],
   "source": [
    "import random"
   ]
  },
  {
   "cell_type": "code",
   "execution_count": 24,
   "metadata": {},
   "outputs": [
    {
     "name": "stdout",
     "output_type": "stream",
     "text": [
      "[14, 37, 30, 33, 39, 40]\n"
     ]
    }
   ],
   "source": [
    "# 문제1\n",
    "\n",
    "# 로또번호 만들기\n",
    "lotto = []\n",
    "for num in range(1,47):\n",
    "    lotto.append(num)\n",
    "\n",
    "def lotto_number():\n",
    "    numbers = random.sample(lotto,6)\n",
    "    return print(numbers)\n",
    "\n",
    "lotto_number()\n",
    "    "
   ]
  },
  {
   "cell_type": "code",
   "execution_count": 19,
   "metadata": {},
   "outputs": [
    {
     "name": "stdout",
     "output_type": "stream",
     "text": [
      "[0, 6, 2] 37\n"
     ]
    }
   ],
   "source": [
    "#  문제 2\n",
    "number_list = [0,1,2,3,4,5,6,7,8,9]\n",
    "numbers = random.sample(number_list,3)\n",
    "# print(numbers)\n",
    "def numbersum():\n",
    "    result = []\n",
    "    for value in number_list:\n",
    "        if value not in numbers:\n",
    "            result.append(value)\n",
    "    \n",
    "    return print(numbers,sum(result))\n",
    "\n",
    "numbersum()"
   ]
  },
  {
   "cell_type": "code",
   "execution_count": 31,
   "metadata": {},
   "outputs": [
    {
     "name": "stdout",
     "output_type": "stream",
     "text": [
      "\n",
      "\n",
      "1 2 3 4 5 \n",
      "\n",
      "2 4 6 8 10 \n",
      "\n",
      "3 6 9 12 15 \n",
      "\n",
      "4 8 12 16 20 \n",
      "\n",
      "5 10 15 20 25 "
     ]
    }
   ],
   "source": [
    "# 문제3\n",
    "for i in range(1,6):\n",
    "    print(\"\\n\")\n",
    "    for j in range(1,6):\n",
    "        print(i * j, end =\" \")"
   ]
  },
  {
   "cell_type": "code",
   "execution_count": 36,
   "metadata": {},
   "outputs": [
    {
     "name": "stdout",
     "output_type": "stream",
     "text": [
      "대소문자 둘 다 있습니다.\n"
     ]
    }
   ],
   "source": [
    "# 문제 4\n",
    "def change(word):\n",
    "    if word.isupper() :\n",
    "        answer = word.lower()\n",
    "    elif word.islower():\n",
    "        answer = word.upper()\n",
    "    else :\n",
    "        answer = \"대소문자 둘 다 있습니다.\"\n",
    "    return print(answer)\n",
    "\n",
    "change(\"asdS\")"
   ]
  }
 ],
 "metadata": {
  "interpreter": {
   "hash": "4edafe6beacb82e31a47fed5f5e4cdc05f56ffc4dccae40919bcc2bb67e2a110"
  },
  "kernelspec": {
   "display_name": "Python 3.8.10 64-bit",
   "language": "python",
   "name": "python3"
  },
  "language_info": {
   "codemirror_mode": {
    "name": "ipython",
    "version": 3
   },
   "file_extension": ".py",
   "mimetype": "text/x-python",
   "name": "python",
   "nbconvert_exporter": "python",
   "pygments_lexer": "ipython3",
   "version": "3.8.10"
  },
  "orig_nbformat": 4
 },
 "nbformat": 4,
 "nbformat_minor": 2
}
