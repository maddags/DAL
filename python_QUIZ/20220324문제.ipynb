{
 "cells": [
  {
   "cell_type": "markdown",
   "metadata": {},
   "source": [
    "# 함수 사용해서 BMI 호출하기"
   ]
  },
  {
   "cell_type": "code",
   "execution_count": 30,
   "metadata": {},
   "outputs": [
    {
     "name": "stdout",
     "output_type": "stream",
     "text": [
      "19.789970953429727\n",
      "표준\n"
     ]
    }
   ],
   "source": [
    "def BMI(weight,height) :\n",
    "    if height > 100 :\n",
    "        height = height / 100\n",
    "        \n",
    "    bmi = (weight / (height  * height))\n",
    "    return bmi\n",
    "\n",
    "\n",
    "def your_bmi(BMI):\n",
    "    if BMI < 18.5 :\n",
    "        print(\"마른체형\")\n",
    "    elif BMI < 25 :\n",
    "        print(\"표준\")\n",
    "    elif BMI < 30 :\n",
    "        print('비만')\n",
    "    else :\n",
    "        print(\"고도 비만\")\n",
    "\n",
    "\n",
    "\n",
    "bmi = BMI(62,1.77)\n",
    "print(bmi)\n",
    "your_bmi(bmi)    \n",
    "    \n",
    "    \n",
    "\n"
   ]
  },
  {
   "cell_type": "markdown",
   "metadata": {},
   "source": [
    "# 홀/짝 출력하기"
   ]
  },
  {
   "cell_type": "code",
   "execution_count": 18,
   "metadata": {},
   "outputs": [
    {
     "name": "stdout",
     "output_type": "stream",
     "text": [
      "입력한 숫자 3는 홀수입니다.\n"
     ]
    }
   ],
   "source": [
    "number = int(input(\"숫자를 입력해주세요. :\"))\n",
    "if number % 2 == 0 :\n",
    "    answer = print(\"입력한 숫자 %d는 짝수입니다.\" % number)\n",
    "\n",
    "else :\n",
    "    answer = print(\"입력한 숫자 %d는 홀수입니다.\"% number)\n"
   ]
  },
  {
   "cell_type": "code",
   "execution_count": 17,
   "metadata": {},
   "outputs": [
    {
     "name": "stdout",
     "output_type": "stream",
     "text": [
      "입력한 숫자 4는 짝수입니다.\n"
     ]
    }
   ],
   "source": [
    "def hol_jjak(number) :\n",
    "    if number % 2 == 0 :\n",
    "       answer = print(\"입력한 숫자 %d는 짝수입니다.\" % number)\n",
    "\n",
    "    else :\n",
    "        answer = print(\"입력한 숫자 %d는 홀수입니다.\"% number)\n",
    "    \n",
    "    return answer\n",
    "\n",
    "\n",
    "hol_jjak(4)"
   ]
  },
  {
   "cell_type": "markdown",
   "metadata": {},
   "source": [
    "# 등급 분류하기"
   ]
  },
  {
   "cell_type": "code",
   "execution_count": 2,
   "metadata": {},
   "outputs": [
    {
     "name": "stdout",
     "output_type": "stream",
     "text": [
      "당신의 등급은 C입니다.\n"
     ]
    }
   ],
   "source": [
    "def rank(num) :\n",
    "    if num > 81 :\n",
    "        ranking = print(\"당신의 등급은 A입니다.\")\n",
    "    elif num > 61 :\n",
    "        ranking = print(\"당신의 등급은 B입니다.\")\n",
    "    elif num > 41 :\n",
    "        ranking = print(\"당신의 등급은 C입니다.\")\n",
    "    elif num > 21 :\n",
    "        ranking = print(\"당신의 등급은 D입니다.\")\n",
    "    else :\n",
    "        ranking = print(\"당신의 등급은 E입니다.\")\n",
    "    return ranking\n",
    "\n",
    "rank(50)\n"
   ]
  }
 ],
 "metadata": {
  "interpreter": {
   "hash": "4edafe6beacb82e31a47fed5f5e4cdc05f56ffc4dccae40919bcc2bb67e2a110"
  },
  "kernelspec": {
   "display_name": "Python 3.8.10 64-bit",
   "language": "python",
   "name": "python3"
  },
  "language_info": {
   "codemirror_mode": {
    "name": "ipython",
    "version": 3
   },
   "file_extension": ".py",
   "mimetype": "text/x-python",
   "name": "python",
   "nbconvert_exporter": "python",
   "pygments_lexer": "ipython3",
   "version": "3.8.10"
  },
  "orig_nbformat": 4
 },
 "nbformat": 4,
 "nbformat_minor": 2
}
