{
 "cells": [
  {
   "cell_type": "code",
   "execution_count": 62,
   "metadata": {},
   "outputs": [
    {
     "name": "stdout",
     "output_type": "stream",
     "text": [
      "[ 1  2  2  3  2  4  2  4  3  4  2  6  2  4  4  5  2  6  2  6  4  4  2  8\n",
      "  3  4  4  6  2  8  2  6  4  4  4  9  2  4  4  8  2  8  2  6  6  4  2 10\n",
      "  3  6  4  6  2  8  4  8  4  4  2 12  2  4  6  7  4  8  2  6  4  8  2 12\n",
      "  2  4  6  6  4  8  2 10  5  4  2 12  4  4  4  8  2 12  4  6  4  4  4 12\n",
      "  2  6  6  9  2  8  2  8  8  4  2 12  2  8  4 10  2  8  4  6  6  4  4 16]\n",
      "10 명 탈출\n"
     ]
    }
   ],
   "source": [
    "import numpy as np\n",
    "\n",
    "count = np.repeat(0,121)\n",
    "\n",
    "for i in range(1,121):\n",
    "    for j in range(1,120 // i + 1) :\n",
    "        if i * j <= 120 :\n",
    "            count[i*j] += 1\n",
    "\n",
    "room  = count[1:121]\n",
    "print(room)\n",
    "print(sum(room % 2 == 1),\"명 탈출\")"
   ]
  },
  {
   "cell_type": "code",
   "execution_count": 58,
   "metadata": {},
   "outputs": [
    {
     "name": "stdout",
     "output_type": "stream",
     "text": [
      "1 명 탈출\n"
     ]
    }
   ],
   "source": [
    "list1 = []\n",
    "for i in range(0,121) :\n",
    "    list1.append(0)\n",
    "    \n",
    "for i in range(1,121) :\n",
    "    temp = []\n",
    "    \n",
    "for room in range(1,len(list1) + 1) :\n",
    "    step = list1[room - 1]\n",
    "    if room % i == 0:\n",
    "        if step == 1:\n",
    "            temp.append(0)\n",
    "        else : \n",
    "            temp.append(1)\n",
    "    else :\n",
    "        temp.append(step)\n",
    "\n",
    "list1 = temp\n",
    "print(sum(list1),\"명 탈출\")"
   ]
  },
  {
   "cell_type": "code",
   "execution_count": null,
   "metadata": {},
   "outputs": [],
   "source": []
  },
  {
   "cell_type": "code",
   "execution_count": null,
   "metadata": {},
   "outputs": [],
   "source": []
  }
 ],
 "metadata": {
  "kernelspec": {
   "display_name": "Python 3",
   "language": "python",
   "name": "python3"
  },
  "language_info": {
   "codemirror_mode": {
    "name": "ipython",
    "version": 3
   },
   "file_extension": ".py",
   "mimetype": "text/x-python",
   "name": "python",
   "nbconvert_exporter": "python",
   "pygments_lexer": "ipython3",
   "version": "3.8.5"
  }
 },
 "nbformat": 4,
 "nbformat_minor": 4
}
