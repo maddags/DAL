{
 "cells": [
  {
   "cell_type": "code",
   "execution_count": 44,
   "metadata": {},
   "outputs": [
    {
     "name": "stdout",
     "output_type": "stream",
     "text": [
      "1번 : 콜라 100원 \n",
      "2번 : 사이다 200원 \n",
      "3번 환타 300원\n",
      "자판기 투입한 돈 : 1000\n",
      "누를 번호 : 2\n",
      "800\n"
     ]
    }
   ],
   "source": [
    "print(\"1번 : 콜라 %d원 \\n2번 : 사이다 %d원 \\n3번 환타 %d원\" %(100,200,300))\n",
    "money = int(input(\"자판기 투입한 돈 : \"))\n",
    "button = int(input(\"누를 번호 : \"))\n",
    "change = 0\n",
    "\n",
    "if button == 1 :\n",
    "    change = money - 100\n",
    "    print(change)\n",
    "elif button == 2 :\n",
    "    change = money - 200\n",
    "    print(change)\n",
    "elif button == 3 :\n",
    "    change = money - 300\n",
    "    print(change)\n",
    "    \n"
   ]
  },
  {
   "cell_type": "code",
   "execution_count": 46,
   "metadata": {},
   "outputs": [
    {
     "name": "stdout",
     "output_type": "stream",
     "text": [
      "1번 : 콜라 100원 \n",
      "2번 : 사이다 200원 \n",
      "3번 환타 300원\n",
      "자판기 투입한 돈 : 1000\n",
      "누를 번호 : 2\n",
      "잔돈 : 800원\n"
     ]
    }
   ],
   "source": [
    "print(\"1번 : 콜라 %d원 \\n2번 : 사이다 %d원 \\n3번 환타 %d원\" %(100,200,300))\n",
    "money = int(input(\"자판기 투입한 돈 : \"))\n",
    "button = int(input(\"누를 번호 : \"))\n",
    "change = 0\n",
    "\n",
    "\n",
    "if button not in (1,2,3) :\n",
    "    print(\"버튼을 다시 눌러주세요.\")\n",
    "else :\n",
    "    def game(money,button) :\n",
    "        if button == 1 :\n",
    "            change = money - 100\n",
    "        elif button == 2 :\n",
    "            change = money - 200\n",
    "        elif button == 3 :\n",
    "            change = money - 300\n",
    "        return change\n",
    "    print(\"잔돈 : %d원\" %game(money,button))"
   ]
  },
  {
   "cell_type": "code",
   "execution_count": 47,
   "metadata": {},
   "outputs": [
    {
     "name": "stdout",
     "output_type": "stream",
     "text": [
      "수박 무게(kg) : 5\n",
      "4등급\n"
     ]
    }
   ],
   "source": [
    "watermelon = int(input(\"수박 무게(kg) : \"))\n",
    "\n",
    "if watermelon > 10 :\n",
    "    print(\"1등급\")\n",
    "elif watermelon > 7 :\n",
    "    print(\"2등급\")\n",
    "elif watermelon > 5 :\n",
    "    print(\"3등급\")\n",
    "else :\n",
    "    print(\"4등급\")\n"
   ]
  },
  {
   "cell_type": "code",
   "execution_count": 48,
   "metadata": {},
   "outputs": [
    {
     "name": "stdout",
     "output_type": "stream",
     "text": [
      "['alpha', 'bravo', 'delta', 'hotel', 'india']\n"
     ]
    }
   ],
   "source": [
    "a = [\"alpha\",\"bravo\",\"charlie\",\"delta\",\"echo\",\"foxtrot\",\"golf\",\"hotel\",\"india\"]\n",
    "b = []\n",
    "\n",
    "for i in range(9):\n",
    "    if len(a[i]) == 5 :\n",
    "        b.append(a[i])\n",
    "print(b)"
   ]
  }
 ],
 "metadata": {
  "kernelspec": {
   "display_name": "Python 3",
   "language": "python",
   "name": "python3"
  },
  "language_info": {
   "codemirror_mode": {
    "name": "ipython",
    "version": 3
   },
   "file_extension": ".py",
   "mimetype": "text/x-python",
   "name": "python",
   "nbconvert_exporter": "python",
   "pygments_lexer": "ipython3",
   "version": "3.8.5"
  }
 },
 "nbformat": 4,
 "nbformat_minor": 4
}
