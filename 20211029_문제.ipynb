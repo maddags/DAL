{
 "cells": [
  {
   "cell_type": "code",
   "execution_count": 67,
   "metadata": {},
   "outputs": [
    {
     "name": "stdout",
     "output_type": "stream",
     "text": [
      "뒤죽박죽 영어 단어 게임\n",
      "\n",
      "원래 영어 단어를 맞추는 게임입니다. \n",
      "\n",
      "zoo의 원래단어를 알아 맞추세요. : \n",
      "zoo\n",
      "맞췄습니다.\n",
      "\n",
      "rinplaae의 원래단어를 알아 맞추세요. : \n",
      "airplane\n",
      "맞췄습니다.\n",
      "\n",
      "usn의 원래단어를 알아 맞추세요. : \n",
      "sun\n",
      "맞췄습니다.\n",
      "\n",
      "leppa의 원래단어를 알아 맞추세요. : \n",
      "apple\n",
      "맞췄습니다.\n",
      "\n",
      "nloi의 원래단어를 알아 맞추세요. : \n",
      "lion\n",
      "맞췄습니다.\n",
      "\n",
      "모든 단어를 맞췄습니다.\n"
     ]
    }
   ],
   "source": [
    "import random\n",
    "print(\"뒤죽박죽 영어 단어 게임\\n\")\n",
    "print(\"원래 영어 단어를 맞추는 게임입니다. \\n\")\n",
    "\n",
    "word_list = [\"zoo\",\"airplane\",\"sun\",\"apple\",\"lion\"]\n",
    "shuffle_list = []\n",
    "for i in range(len(word_list)) :\n",
    "    list_word  = list(word_list[i])\n",
    "    random.shuffle(list_word)\n",
    "    shuffle_list.append(list_word)\n",
    "    \n",
    "\n",
    "for i in range(len(shuffle_list)):\n",
    "    print(\"%s의 원래단어를 알아 맞추세요. : \" % \"\".join(shuffle_list[i]))\n",
    "    while 1 :\n",
    "        answer = input(\"\")\n",
    "        if answer == word_list[i]:\n",
    "            print(\"맞췄습니다.\\n\")\n",
    "            break\n",
    "        else :\n",
    "            print(\"틀렸습니다. 다시 입력해주세요.\\n\")\n",
    "            continue\n",
    "        \n",
    "print(\"모든 단어를 맞췄습니다.\")\n",
    "\n",
    "\n"
   ]
  },
  {
   "cell_type": "code",
   "execution_count": null,
   "metadata": {},
   "outputs": [],
   "source": []
  },
  {
   "cell_type": "code",
   "execution_count": null,
   "metadata": {},
   "outputs": [],
   "source": []
  },
  {
   "cell_type": "code",
   "execution_count": 13,
   "metadata": {},
   "outputs": [
    {
     "name": "stdout",
     "output_type": "stream",
     "text": [
      "word\n",
      "owdr\n"
     ]
    }
   ],
   "source": [
    "import random\n",
    "word = list(input(\"\"))\n",
    "\n",
    "random.shuffle(word) \n",
    "print(\"\".join(word))"
   ]
  },
  {
   "cell_type": "code",
   "execution_count": 52,
   "metadata": {},
   "outputs": [
    {
     "data": {
      "text/plain": [
       "[['o', 'z', 'o'],\n",
       " ['n', 'a', 'p', 'l', 'e', 'a', 'i', 'r'],\n",
       " ['u', 's', 'n'],\n",
       " ['l', 'e', 'a', 'p', 'p'],\n",
       " ['i', 'l', 'n', 'o']]"
      ]
     },
     "execution_count": 52,
     "metadata": {},
     "output_type": "execute_result"
    }
   ],
   "source": [
    "word_list = ([\"zoo\",\"airplane\",\"sun\",\"apple\",\"lion\"])\n",
    "shuffle_list = []\n",
    "for i in range(len(word_list)) :\n",
    "    list_word  = list(word_list[i])\n",
    "    random.shuffle(list_word)\n",
    "    shuffle_list.append(list_word)\n",
    "    \n"
   ]
  },
  {
   "cell_type": "code",
   "execution_count": 46,
   "metadata": {},
   "outputs": [
    {
     "data": {
      "text/plain": [
       "['o', 'o', 'z']"
      ]
     },
     "execution_count": 46,
     "metadata": {},
     "output_type": "execute_result"
    }
   ],
   "source": [
    "list_word = list(\"zoo\")\n",
    "new_word = random.shuffle(list_word)"
   ]
  },
  {
   "cell_type": "code",
   "execution_count": null,
   "metadata": {},
   "outputs": [],
   "source": []
  }
 ],
 "metadata": {
  "kernelspec": {
   "display_name": "Python 3",
   "language": "python",
   "name": "python3"
  },
  "language_info": {
   "codemirror_mode": {
    "name": "ipython",
    "version": 3
   },
   "file_extension": ".py",
   "mimetype": "text/x-python",
   "name": "python",
   "nbconvert_exporter": "python",
   "pygments_lexer": "ipython3",
   "version": "3.8.5"
  }
 },
 "nbformat": 4,
 "nbformat_minor": 4
}
